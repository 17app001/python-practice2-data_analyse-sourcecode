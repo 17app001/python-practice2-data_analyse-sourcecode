{
 "cells": [
  {
   "cell_type": "markdown",
   "id": "f128fd09",
   "metadata": {},
   "source": [
    "### 1.引入套件"
   ]
  },
  {
   "cell_type": "code",
   "execution_count": 2,
   "id": "13656686",
   "metadata": {},
   "outputs": [],
   "source": []
  },
  {
   "cell_type": "markdown",
   "id": "81b23567",
   "metadata": {},
   "source": [
    "### 2.讀取資料"
   ]
  },
  {
   "cell_type": "code",
   "execution_count": null,
   "id": "e19d1cf6",
   "metadata": {},
   "outputs": [],
   "source": []
  },
  {
   "cell_type": "markdown",
   "id": "c15addcf",
   "metadata": {},
   "source": [
    "### 3.重置index  \n",
    "- 使用reset_index方法\n",
    "- drop=True"
   ]
  },
  {
   "cell_type": "code",
   "execution_count": null,
   "id": "576e479d",
   "metadata": {},
   "outputs": [],
   "source": []
  },
  {
   "cell_type": "markdown",
   "id": "b266739f",
   "metadata": {},
   "source": [
    "### 4.增加資料方式-以行方式"
   ]
  },
  {
   "cell_type": "code",
   "execution_count": null,
   "id": "80cef0f5",
   "metadata": {},
   "outputs": [],
   "source": []
  },
  {
   "cell_type": "markdown",
   "id": "753a67dc",
   "metadata": {},
   "source": [
    "### 5.增加資料方式-以列方式  \n",
    "- loc \n",
    "- append\n",
    "    - 使用字典格式\n",
    "    -  ignore_index=True"
   ]
  },
  {
   "cell_type": "code",
   "execution_count": null,
   "id": "49feb1a5",
   "metadata": {},
   "outputs": [],
   "source": []
  },
  {
   "cell_type": "markdown",
   "id": "48fbc96f",
   "metadata": {},
   "source": [
    "### 6.刪除資料方式  \n",
    "- 使用drop方法\n",
    "    - inplace=True\n",
    "- axis=0 列\n",
    "- axis=1 行\n"
   ]
  },
  {
   "cell_type": "code",
   "execution_count": null,
   "id": "2a6c7a03",
   "metadata": {},
   "outputs": [],
   "source": []
  },
  {
   "cell_type": "markdown",
   "id": "0229f207",
   "metadata": {},
   "source": [
    "### 7.刪除資料(低於x營收)  \n",
    "- 取出index  \n",
    "- 重新設定index(drop=True)"
   ]
  },
  {
   "cell_type": "code",
   "execution_count": null,
   "id": "15169131",
   "metadata": {},
   "outputs": [],
   "source": []
  },
  {
   "cell_type": "markdown",
   "id": "6f24e1ef",
   "metadata": {},
   "source": [
    "### 8.刪除重複資料  \n",
    "- duplicated \n",
    "    - 檢查重複資料\n",
    "- drop_duplicates(inplace=True)"
   ]
  },
  {
   "cell_type": "code",
   "execution_count": null,
   "id": "ef10443d",
   "metadata": {},
   "outputs": [],
   "source": []
  },
  {
   "cell_type": "markdown",
   "id": "f426c073",
   "metadata": {},
   "source": [
    "### 9.修改資料(增加營收)  \n",
    "- 找出低於某營收區間  \n",
    "- 使用矩陣取位置\n",
    "- 使用apply方法\n",
    "    "
   ]
  },
  {
   "cell_type": "code",
   "execution_count": null,
   "id": "09aacb73",
   "metadata": {},
   "outputs": [],
   "source": []
  },
  {
   "cell_type": "markdown",
   "id": "48f1d044",
   "metadata": {},
   "source": [
    "### 10.更好找資料方法 isin  \n",
    "- 找出分類 3C & 飲品"
   ]
  },
  {
   "cell_type": "code",
   "execution_count": null,
   "id": "1f27d17a",
   "metadata": {},
   "outputs": [],
   "source": []
  },
  {
   "cell_type": "markdown",
   "id": "a7813ffd",
   "metadata": {},
   "source": [
    "### 11.資料的上下合併-(concat)  \n",
    "- 列的合併"
   ]
  },
  {
   "cell_type": "code",
   "execution_count": null,
   "id": "2db1e61d",
   "metadata": {},
   "outputs": [],
   "source": []
  },
  {
   "cell_type": "markdown",
   "id": "9816be37",
   "metadata": {},
   "source": [
    "### 12.多檔案的合併方式  \n",
    "- 使用推導式"
   ]
  },
  {
   "cell_type": "code",
   "execution_count": null,
   "id": "be03bf04",
   "metadata": {},
   "outputs": [],
   "source": []
  },
  {
   "cell_type": "markdown",
   "id": "cf0e7cb0",
   "metadata": {},
   "source": [
    "### 13.資料的左右合併-(merge)  \n",
    "- 行的合併"
   ]
  },
  {
   "cell_type": "code",
   "execution_count": null,
   "id": "272e1c68",
   "metadata": {},
   "outputs": [],
   "source": []
  },
  {
   "cell_type": "markdown",
   "id": "13a61fe9",
   "metadata": {},
   "source": [
    "### 14.排序方式"
   ]
  },
  {
   "cell_type": "code",
   "execution_count": null,
   "id": "5d652f92",
   "metadata": {},
   "outputs": [],
   "source": []
  },
  {
   "cell_type": "markdown",
   "id": "e410c85b",
   "metadata": {},
   "source": [
    "### 15.分群與統計  \n",
    "- groupby\n",
    "    - get_group\n",
    "    \n",
    "- 所有分類營收\n",
    "- 所有商店營收\n",
    "- 單店分類營收"
   ]
  },
  {
   "cell_type": "code",
   "execution_count": null,
   "id": "b9e96946",
   "metadata": {},
   "outputs": [],
   "source": []
  },
  {
   "cell_type": "markdown",
   "id": "965ff889",
   "metadata": {},
   "source": [
    "### 16.程式練習  \n",
    "- 1.找出最高營收項目跟商店  \n",
    "- 2.找出大潤發最高營收項目  \n",
    "- 3.找出飲品賣最好的商店  "
   ]
  },
  {
   "cell_type": "code",
   "execution_count": null,
   "id": "4f7748c9",
   "metadata": {},
   "outputs": [],
   "source": []
  },
  {
   "cell_type": "markdown",
   "id": "3013e87f",
   "metadata": {},
   "source": [
    "### 17.將營收改為千萬"
   ]
  },
  {
   "cell_type": "code",
   "execution_count": null,
   "id": "adc0568d",
   "metadata": {},
   "outputs": [],
   "source": []
  },
  {
   "cell_type": "markdown",
   "id": "3ed9b4be",
   "metadata": {},
   "source": [
    "### 18.建立樞紐分析表  \n",
    "- 結算分類/商店/總金額"
   ]
  },
  {
   "cell_type": "code",
   "execution_count": null,
   "id": "51a6636b",
   "metadata": {},
   "outputs": [],
   "source": []
  },
  {
   "cell_type": "markdown",
   "id": "cdfc2584",
   "metadata": {},
   "source": [
    "### 19.填補空值的方法  \n",
    "- method='bfill','ffill'"
   ]
  },
  {
   "cell_type": "markdown",
   "id": "397f39e1",
   "metadata": {},
   "source": []
  },
  {
   "cell_type": "markdown",
   "id": "f7e144e6",
   "metadata": {},
   "source": [
    "### 20.刪除空值的方法 \n",
    "- dropna\n",
    "    - how='all'\n",
    "    - axis=0,1\n",
    "    - subset(column_name)"
   ]
  },
  {
   "attachments": {},
   "cell_type": "markdown",
   "id": "573da76d",
   "metadata": {},
   "source": [
    "### 21.程式練習   \n",
    "- 讀取 100_students.csv\n",
    "    - [ ] 檢查是否有空值，使用info()\n",
    "    - [ ] 以各科平均分進行填補動作\n",
    "    - [ ] 新增平均分欄位\n",
    "    - [ ] 依照平均分進行排序(大到小)\n",
    "        - [ ] 儲存新檔100_students_rank.csv  \n",
    "        \n",
    "- 儲存平均分不及格(60分以下)的資料為不及格.csv\n"
   ]
  },
  {
   "cell_type": "code",
   "execution_count": null,
   "id": "7d448e1a",
   "metadata": {},
   "outputs": [],
   "source": []
  }
 ],
 "metadata": {
  "kernelspec": {
   "display_name": "Python 3",
   "language": "python",
   "name": "python3"
  },
  "language_info": {
   "codemirror_mode": {
    "name": "ipython",
    "version": 3
   },
   "file_extension": ".py",
   "mimetype": "text/x-python",
   "name": "python",
   "nbconvert_exporter": "python",
   "pygments_lexer": "ipython3",
   "version": "3.8.8"
  }
 },
 "nbformat": 4,
 "nbformat_minor": 5
}
